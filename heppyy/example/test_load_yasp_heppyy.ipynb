{
 "cells": [
  {
   "cell_type": "code",
   "execution_count": 1,
   "metadata": {},
   "outputs": [],
   "source": [
    "import yasp"
   ]
  },
  {
   "cell_type": "code",
   "execution_count": 2,
   "metadata": {},
   "outputs": [
    {
     "name": "stdout",
     "output_type": "stream",
     "text": [
      "-i- found candidate modules: ['/Users/ploskon/devel/yasp/software/modules/root/default', '/Users/ploskon/devel/yasp/software/bundle/hepbase/modules/root/default']\n",
      "-i- latest module: /Users/ploskon/devel/yasp/software/bundle/hepbase/modules/root/default\n",
      "-i- adding path: /Users/ploskon/devel/yasp/software/bundle/hepbase/root/default/lib\n",
      "-i- found candidate modules: ['/Users/ploskon/devel/yasp/software/modules/heppyy/current']\n",
      "-i- latest module: /Users/ploskon/devel/yasp/software/modules/heppyy/current\n",
      "-i- adding path: /Users/ploskon/devel/yasp/software/heppyy/current/lib\n"
     ]
    }
   ],
   "source": [
    "yasp.enable_modules('root', 'heppyy')\n"
   ]
  },
  {
   "cell_type": "code",
   "execution_count": 3,
   "metadata": {},
   "outputs": [
    {
     "name": "stdout",
     "output_type": "stream",
     "text": [
      "Welcome to JupyROOT 6.30/06\n"
     ]
    }
   ],
   "source": [
    "import ROOT\n",
    "import heppyy"
   ]
  },
  {
   "cell_type": "code",
   "execution_count": 4,
   "metadata": {},
   "outputs": [
    {
     "name": "stderr",
     "output_type": "stream",
     "text": [
      "[i] Creating YaspCppyyHelper singleton.\n",
      "[i] Including header: fastjet/PseudoJet.hh\n",
      "[i] Including header: fastjet/JetDefinition.hh\n",
      "[i] Including header: fastjet/ClusterSequence.hh\n",
      "[i] Including header: fastjet/Selector.hh\n",
      "[i] Including header: fastjet/contrib/LundGenerator.hh\n",
      "[i] Including header: fastjet/contrib/Recluster.hh\n",
      "[i] Including header: fastjet/contrib/SoftDrop.hh\n",
      "[i] Including header: fastjet/contrib/EnergyCorrelator.hh\n",
      "[i] Including header: Pythia8/Pythia.h\n"
     ]
    },
    {
     "name": "stdout",
     "output_type": "stream",
     "text": [
      "[i] cppyyhelper (5569527760)\n",
      "   init_ignore_none = True\n",
      "   args = None\n",
      "   init_dict = None\n",
      "   init_json = None\n",
      "   init_yaml = None\n",
      "   loaded_packages = ['fastjet']\n",
      "   loaded_libs = ['fastjet', 'LundPlane', 'EnergyCorrelator']\n",
      "   paths_include = ['/Users/ploskon/devel/yasp/software/fastjet/3.4.2/include']\n",
      "   paths_lib = ['/Users/ploskon/devel/yasp/software/fastjet/3.4.2/lib']\n",
      "[i] cppyyhelper (5569527760)\n",
      "   init_ignore_none = True\n",
      "   args = None\n",
      "   init_dict = None\n",
      "   init_json = None\n",
      "   init_yaml = None\n",
      "   loaded_packages = ['fastjet', 'pythia8']\n",
      "   loaded_libs = ['fastjet', 'LundPlane', 'EnergyCorrelator', 'pythia8']\n",
      "   paths_include = ['/Users/ploskon/devel/yasp/software/fastjet/3.4.2/include', '/Users/ploskon/devel/yasp/software/pythia8/default/include']\n",
      "   paths_lib = ['/Users/ploskon/devel/yasp/software/fastjet/3.4.2/lib', '/Users/ploskon/devel/yasp/software/pythia8/default/lib']\n"
     ]
    },
    {
     "name": "stderr",
     "output_type": "stream",
     "text": [
      "[i] Including header: eec/ecorrel.hh\n",
      "[i] Including header: fjutil/fjutil.hh\n",
      "[i] Including header: fjext/fjtools.hh\n",
      "[i] Including header: groom/GroomerShop.hh\n",
      "[i] Including header: pythiaext/PythiaExt.hh\n",
      "[i] Including header: hybridutil/readhybrid.hh\n",
      "[i] Including header: hybridutil/hybridNegaRecombiner.hh\n"
     ]
    },
    {
     "name": "stdout",
     "output_type": "stream",
     "text": [
      "[i] cppyyhelper (5569527760)\n",
      "   init_ignore_none = True\n",
      "   args = None\n",
      "   init_dict = None\n",
      "   init_json = None\n",
      "   init_yaml = None\n",
      "   loaded_packages = ['fastjet', 'pythia8', 'heppyy']\n",
      "   loaded_libs = ['fastjet', 'LundPlane', 'EnergyCorrelator', 'pythia8', 'heppyy_eec', 'heppyy_fjutil', 'heppyy_fjext', 'heppyy_groom', 'heppyy_pythiafjext', 'heppyy_pythiaext', 'heppyy_hybridutil']\n",
      "   paths_include = ['/Users/ploskon/devel/yasp/software/fastjet/3.4.2/include', '/Users/ploskon/devel/yasp/software/pythia8/default/include', '/Users/ploskon/devel/yasp/software/heppyy/current/include']\n",
      "   paths_lib = ['/Users/ploskon/devel/yasp/software/fastjet/3.4.2/lib', '/Users/ploskon/devel/yasp/software/pythia8/default/lib', '/Users/ploskon/devel/yasp/software/heppyy/current/lib']\n"
     ]
    }
   ],
   "source": [
    "import heppyy.util.fastjet_cppyy\n",
    "import heppyy.util.pythia8_cppyy\n",
    "import heppyy.util.heppyy_cppyy\n"
   ]
  },
  {
   "cell_type": "code",
   "execution_count": 5,
   "metadata": {},
   "outputs": [],
   "source": [
    "from cppyy.gbl import fastjet as fj\n",
    "from cppyy.gbl import Pythia8\n",
    "from cppyy.gbl.std import vector\n",
    "\n",
    "from yasp import GenericObject\n",
    "from heppyy.pythia_util import configuration as pyconf\n",
    "from heppyy.util.logger import Logger\n",
    "log = Logger()\n"
   ]
  },
  {
   "cell_type": "code",
   "execution_count": 6,
   "metadata": {},
   "outputs": [
    {
     "name": "stdout",
     "output_type": "stream",
     "text": [
      "[i] strings read to PYTHIA  [['Next:numberCount = 0', 'Next:numberShowEvent = 0', 'Next:numberShowInfo = 0', 'Next:numberShowProcess = 0', 'Stat:showProcessLevel = on']]\n",
      "\n",
      " *------------------------------------------------------------------------------------* \n",
      " |                                                                                    | \n",
      " |  *------------------------------------------------------------------------------*  | \n",
      " |  |                                                                              |  | \n",
      " |  |                                                                              |  | \n",
      " |  |   PPP   Y   Y  TTTTT  H   H  III    A      Welcome to the Lund Monte Carlo!  |  | \n",
      " |  |   P  P   Y Y     T    H   H   I    A A     This is PYTHIA version 8.311      |  | \n",
      " |  |   PPP     Y      T    HHHHH   I   AAAAA    Last date of change:  8 Mar 2024  |  | \n",
      " |  |   P       Y      T    H   H   I   A   A                                      |  | \n",
      " |  |   P       Y      T    H   H  III  A   A    Now is 17 May 2024 at 20:15:02    |  | \n",
      " |  |                                                                              |  | \n",
      " |  |   Program documentation and an archive of historic versions is found on:     |  | \n",
      " |  |                                                                              |  | \n",
      " |  |                               https://pythia.org/                            |  | \n",
      " |  |                                                                              |  | \n",
      " |  |   PYTHIA is authored by a collaboration consisting of:                       |  | \n",
      " |  |                                                                              |  | \n",
      " |  |   Javira Altmann, Christian Bierlich, Naomi Cooke, Nishita Desai,            |  | \n",
      " |  |   Leif Gellersen, Ilkka Helenius, Philip Ilten, Leif Lonnblad,               |  | \n",
      " |  |   Stephen Mrenna, Christian Preuss, Torbjorn Sjostrand, Peter Skands,        |  | \n",
      " |  |   Marius Utheim, and Rob Verheyen.                                           |  | \n",
      " |  |                                                                              |  | \n",
      " |  |   The complete list of authors, including contact information and            |  | \n",
      " |  |   affiliations, can be found on https://pythia.org/.                         |  | \n",
      " |  |   Problems or bugs should be reported on email at authors@pythia.org.        |  | \n",
      " |  |                                                                              |  | \n",
      " |  |   The main program reference is C. Bierlich et al,                           |  | \n",
      " |  |   'A comprehensive guide to the physics and usage of Pythia 8.3',            |  | \n",
      " |  |   SciPost Phys. Codebases 8-r8.3 (2022) [arXiv:2203.11601 [hep-ph]]          |  | \n",
      " |  |                                                                              |  | \n",
      " |  |   PYTHIA is released under the GNU General Public Licence version 2 or later.|  | \n",
      " |  |   Please respect the MCnet Guidelines for Event Generator Authors and Users. |  | \n",
      " |  |                                                                              |  | \n",
      " |  |   Disclaimer: this program comes without any guarantees.                     |  | \n",
      " |  |   Beware of errors and use common sense when interpreting results.           |  | \n",
      " |  |                                                                              |  | \n",
      " |  |   Copyright (C) 2024 Torbjorn Sjostrand                                      |  | \n",
      " |  |                                                                              |  | \n",
      " |  |                                                                              |  | \n",
      " |  *------------------------------------------------------------------------------*  | \n",
      " |                                                                                    | \n",
      " *------------------------------------------------------------------------------------* \n",
      "\n",
      " PYTHIA Error in ProcessLevel::init: no process switched on\n",
      " PYTHIA Abort from Pythia::init: processLevel initialization failed\n"
     ]
    }
   ],
   "source": [
    "pythia = pyconf.create_and_init_pythia()\n"
   ]
  },
  {
   "cell_type": "code",
   "execution_count": 7,
   "metadata": {},
   "outputs": [
    {
     "name": "stdout",
     "output_type": "stream",
     "text": [
      "#--------------------------------------------------------------------------\n",
      "#                         FastJet release 3.4.2\n",
      "#                 M. Cacciari, G.P. Salam and G. Soyez                  \n",
      "#     A software package for jet finding and analysis at colliders      \n",
      "#                           http://fastjet.fr                           \n",
      "#\t                                                                      \n",
      "# Please cite EPJC72(2012)1896 [arXiv:1111.6097] if you use this package\n",
      "# for scientific work and optionally PLB641(2006)57 [hep-ph/0512210].   \n",
      "#                                                                       \n",
      "# FastJet is provided without warranty under the GNU GPL v2 or higher.  \n",
      "# It uses T. Chan's closest pair algorithm, S. Fortune's Voronoi code\n",
      "# and 3rd party plugin jet algorithms. See COPYING file for details.\n",
      "#--------------------------------------------------------------------------\n"
     ]
    }
   ],
   "source": [
    "fj.ClusterSequence().print_banner()"
   ]
  },
  {
   "cell_type": "code",
   "execution_count": null,
   "metadata": {},
   "outputs": [],
   "source": []
  }
 ],
 "metadata": {
  "kernelspec": {
   "display_name": "venvyasp",
   "language": "python",
   "name": "python3"
  },
  "language_info": {
   "codemirror_mode": {
    "name": "ipython",
    "version": 3
   },
   "file_extension": ".py",
   "mimetype": "text/x-python",
   "name": "python",
   "nbconvert_exporter": "python",
   "pygments_lexer": "ipython3",
   "version": "3.11.9"
  }
 },
 "nbformat": 4,
 "nbformat_minor": 2
}
