{
 "cells": [
  {
   "cell_type": "code",
   "execution_count": 1,
   "metadata": {},
   "outputs": [],
   "source": [
    "import yasp"
   ]
  },
  {
   "cell_type": "code",
   "execution_count": null,
   "metadata": {},
   "outputs": [],
   "source": [
    "yasp.enable_modules('root', 'heppyy')\n"
   ]
  },
  {
   "cell_type": "code",
   "execution_count": null,
   "metadata": {},
   "outputs": [],
   "source": [
    "import ROOT\n",
    "import heppyy"
   ]
  },
  {
   "cell_type": "code",
   "execution_count": null,
   "metadata": {},
   "outputs": [],
   "source": [
    "#import heppyy.util.fastjet_cppyy\n",
    "#import heppyy.util.pythia8_cppyy\n",
    "#import heppyy.util.heppyy_cppyy\n",
    "#from cppyy.gbl import fastjet as fj\n",
    "#from cppyy.gbl import Pythia8\n",
    "#from cppyy.gbl.std import vector\n",
    "\n",
    "fj = heppyy.load_cppyy('fastjet')\n",
    "Pythia8 = heppyy.load_cppyy('pythia8.Pythia8')\n",
    "std = heppyy.load_cppyy('std')\n",
    "\n",
    "from yasp import GenericObject\n",
    "from heppyy.pythia_util import configuration as pyconf\n",
    "from heppyy.util.logger import Logger\n",
    "log = Logger()\n"
   ]
  },
  {
   "cell_type": "code",
   "execution_count": null,
   "metadata": {},
   "outputs": [],
   "source": [
    "pythia = pyconf.create_and_init_pythia()\n"
   ]
  },
  {
   "cell_type": "code",
   "execution_count": null,
   "metadata": {},
   "outputs": [],
   "source": [
    "fj.ClusterSequence().print_banner()"
   ]
  },
  {
   "cell_type": "code",
   "execution_count": null,
   "metadata": {},
   "outputs": [],
   "source": []
  }
 ],
 "metadata": {
  "kernelspec": {
   "display_name": "venvyasp",
   "language": "python",
   "name": "python3"
  },
  "language_info": {
   "codemirror_mode": {
    "name": "ipython",
    "version": 3
   },
   "file_extension": ".py",
   "mimetype": "text/x-python",
   "name": "python",
   "nbconvert_exporter": "python",
   "pygments_lexer": "ipython3",
   "version": "3.11.9"
  }
 },
 "nbformat": 4,
 "nbformat_minor": 4
}
